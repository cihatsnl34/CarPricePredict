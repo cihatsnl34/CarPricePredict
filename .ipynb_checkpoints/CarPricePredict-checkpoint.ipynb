{
 "cells": [
  {
   "cell_type": "code",
   "execution_count": 1,
   "id": "9e384054",
   "metadata": {},
   "outputs": [],
   "source": [
    "import pandas as pd\n",
    "import numpy as np\n",
    "from sklearn.preprocessing import MinMaxScaler\n",
    "from sklearn.preprocessing import LabelEncoder\n",
    "from sklearn.model_selection import GridSearchCV\n",
    "from sklearn.ensemble import RandomForestRegressor\n",
    "from sklearn.metrics import r2_score"
   ]
  },
  {
   "cell_type": "code",
   "execution_count": 2,
   "id": "1399d479",
   "metadata": {},
   "outputs": [],
   "source": [
    "X_train=pd.read_csv(\"X_train.csv\")\n",
    "X_test=pd.read_csv(\"X_test.csv\")\n",
    "y_train=pd.read_csv(\"y_train.csv\")\n",
    "y_test=pd.read_csv(\"y_test.csv\")"
   ]
  },
  {
   "cell_type": "code",
   "execution_count": 3,
   "id": "6e368741-6252-4375-b0dd-d94b75aa01ab",
   "metadata": {},
   "outputs": [
    {
     "data": {
      "text/html": [
       "<div>\n",
       "<style scoped>\n",
       "    .dataframe tbody tr th:only-of-type {\n",
       "        vertical-align: middle;\n",
       "    }\n",
       "\n",
       "    .dataframe tbody tr th {\n",
       "        vertical-align: top;\n",
       "    }\n",
       "\n",
       "    .dataframe thead th {\n",
       "        text-align: right;\n",
       "    }\n",
       "</style>\n",
       "<table border=\"1\" class=\"dataframe\">\n",
       "  <thead>\n",
       "    <tr style=\"text-align: right;\">\n",
       "      <th></th>\n",
       "      <th>carID</th>\n",
       "      <th>brand</th>\n",
       "      <th>model</th>\n",
       "      <th>year</th>\n",
       "      <th>transmission</th>\n",
       "      <th>mileage</th>\n",
       "      <th>fuelType</th>\n",
       "      <th>tax</th>\n",
       "      <th>mpg</th>\n",
       "      <th>engineSize</th>\n",
       "    </tr>\n",
       "  </thead>\n",
       "  <tbody>\n",
       "    <tr>\n",
       "      <th>3561</th>\n",
       "      <td>17355</td>\n",
       "      <td>toyota</td>\n",
       "      <td>Prius</td>\n",
       "      <td>2015</td>\n",
       "      <td>Automatic</td>\n",
       "      <td>32314</td>\n",
       "      <td>Hybrid</td>\n",
       "      <td>0.0</td>\n",
       "      <td>72.4</td>\n",
       "      <td>1.8</td>\n",
       "    </tr>\n",
       "    <tr>\n",
       "      <th>906</th>\n",
       "      <td>19482</td>\n",
       "      <td>merc</td>\n",
       "      <td>V Class</td>\n",
       "      <td>2019</td>\n",
       "      <td>Semi-Auto</td>\n",
       "      <td>3999</td>\n",
       "      <td>Diesel</td>\n",
       "      <td>145.0</td>\n",
       "      <td>36.7</td>\n",
       "      <td>2.0</td>\n",
       "    </tr>\n",
       "    <tr>\n",
       "      <th>2762</th>\n",
       "      <td>13669</td>\n",
       "      <td>vw</td>\n",
       "      <td>Scirocco</td>\n",
       "      <td>2016</td>\n",
       "      <td>Manual</td>\n",
       "      <td>34995</td>\n",
       "      <td>Petrol</td>\n",
       "      <td>125.0</td>\n",
       "      <td>52.3</td>\n",
       "      <td>1.4</td>\n",
       "    </tr>\n",
       "    <tr>\n",
       "      <th>3061</th>\n",
       "      <td>15058</td>\n",
       "      <td>merc</td>\n",
       "      <td>S Class</td>\n",
       "      <td>2017</td>\n",
       "      <td>Automatic</td>\n",
       "      <td>35980</td>\n",
       "      <td>Diesel</td>\n",
       "      <td>160.0</td>\n",
       "      <td>52.3</td>\n",
       "      <td>3.0</td>\n",
       "    </tr>\n",
       "    <tr>\n",
       "      <th>2183</th>\n",
       "      <td>15397</td>\n",
       "      <td>toyota</td>\n",
       "      <td>Supra</td>\n",
       "      <td>2019</td>\n",
       "      <td>Semi-Auto</td>\n",
       "      <td>1902</td>\n",
       "      <td>Petrol</td>\n",
       "      <td>145.0</td>\n",
       "      <td>34.5</td>\n",
       "      <td>3.0</td>\n",
       "    </tr>\n",
       "  </tbody>\n",
       "</table>\n",
       "</div>"
      ],
      "text/plain": [
       "      carID   brand      model  year transmission  mileage fuelType    tax  \\\n",
       "3561  17355  toyota      Prius  2015    Automatic    32314   Hybrid    0.0   \n",
       "906   19482    merc    V Class  2019    Semi-Auto     3999   Diesel  145.0   \n",
       "2762  13669      vw   Scirocco  2016       Manual    34995   Petrol  125.0   \n",
       "3061  15058    merc    S Class  2017    Automatic    35980   Diesel  160.0   \n",
       "2183  15397  toyota      Supra  2019    Semi-Auto     1902   Petrol  145.0   \n",
       "\n",
       "       mpg  engineSize  \n",
       "3561  72.4         1.8  \n",
       "906   36.7         2.0  \n",
       "2762  52.3         1.4  \n",
       "3061  52.3         3.0  \n",
       "2183  34.5         3.0  "
      ]
     },
     "execution_count": 3,
     "metadata": {},
     "output_type": "execute_result"
    }
   ],
   "source": [
    "X_train.sample(5)"
   ]
  },
  {
   "cell_type": "code",
   "execution_count": 4,
   "id": "d9cb1bfd-6276-473f-9678-9b37610a30fb",
   "metadata": {},
   "outputs": [
    {
     "data": {
      "text/html": [
       "<div>\n",
       "<style scoped>\n",
       "    .dataframe tbody tr th:only-of-type {\n",
       "        vertical-align: middle;\n",
       "    }\n",
       "\n",
       "    .dataframe tbody tr th {\n",
       "        vertical-align: top;\n",
       "    }\n",
       "\n",
       "    .dataframe thead th {\n",
       "        text-align: right;\n",
       "    }\n",
       "</style>\n",
       "<table border=\"1\" class=\"dataframe\">\n",
       "  <thead>\n",
       "    <tr style=\"text-align: right;\">\n",
       "      <th></th>\n",
       "      <th>carID</th>\n",
       "      <th>price</th>\n",
       "    </tr>\n",
       "  </thead>\n",
       "  <tbody>\n",
       "    <tr>\n",
       "      <th>1334</th>\n",
       "      <td>17840</td>\n",
       "      <td>7298</td>\n",
       "    </tr>\n",
       "    <tr>\n",
       "      <th>1133</th>\n",
       "      <td>18856</td>\n",
       "      <td>45000</td>\n",
       "    </tr>\n",
       "    <tr>\n",
       "      <th>689</th>\n",
       "      <td>19246</td>\n",
       "      <td>23780</td>\n",
       "    </tr>\n",
       "    <tr>\n",
       "      <th>294</th>\n",
       "      <td>16249</td>\n",
       "      <td>14972</td>\n",
       "    </tr>\n",
       "    <tr>\n",
       "      <th>3732</th>\n",
       "      <td>17575</td>\n",
       "      <td>18295</td>\n",
       "    </tr>\n",
       "  </tbody>\n",
       "</table>\n",
       "</div>"
      ],
      "text/plain": [
       "      carID  price\n",
       "1334  17840   7298\n",
       "1133  18856  45000\n",
       "689   19246  23780\n",
       "294   16249  14972\n",
       "3732  17575  18295"
      ]
     },
     "execution_count": 4,
     "metadata": {},
     "output_type": "execute_result"
    }
   ],
   "source": [
    "y_train.sample(5)"
   ]
  },
  {
   "cell_type": "code",
   "execution_count": 5,
   "id": "718e7352-04fb-431e-ba0c-91d4bd6f6b83",
   "metadata": {
    "tags": []
   },
   "outputs": [
    {
     "data": {
      "text/plain": [
       "carID           0\n",
       "brand           0\n",
       "model           0\n",
       "year            0\n",
       "transmission    0\n",
       "mileage         0\n",
       "fuelType        0\n",
       "tax             0\n",
       "mpg             0\n",
       "engineSize      0\n",
       "dtype: int64"
      ]
     },
     "execution_count": 5,
     "metadata": {},
     "output_type": "execute_result"
    }
   ],
   "source": [
    "X_train.isnull().sum()"
   ]
  },
  {
   "cell_type": "code",
   "execution_count": 6,
   "id": "83b568a3-1508-42f9-b8bd-d08407270285",
   "metadata": {},
   "outputs": [
    {
     "data": {
      "text/plain": [
       "carID           0\n",
       "brand           0\n",
       "model           0\n",
       "year            0\n",
       "transmission    0\n",
       "mileage         0\n",
       "fuelType        0\n",
       "tax             0\n",
       "mpg             0\n",
       "engineSize      0\n",
       "dtype: int64"
      ]
     },
     "execution_count": 6,
     "metadata": {},
     "output_type": "execute_result"
    }
   ],
   "source": [
    "X_test.isnull().sum()"
   ]
  },
  {
   "cell_type": "code",
   "execution_count": 7,
   "id": "ba9d0dac-e33d-483e-a094-ee4f4d0ce18a",
   "metadata": {},
   "outputs": [
    {
     "data": {
      "text/plain": [
       "carID    0\n",
       "price    0\n",
       "dtype: int64"
      ]
     },
     "execution_count": 7,
     "metadata": {},
     "output_type": "execute_result"
    }
   ],
   "source": [
    "y_test.isnull().sum()"
   ]
  },
  {
   "cell_type": "code",
   "execution_count": 8,
   "id": "e703ba8c-1f75-450a-9141-c847b239767d",
   "metadata": {},
   "outputs": [
    {
     "data": {
      "text/plain": [
       "carID    0\n",
       "price    0\n",
       "dtype: int64"
      ]
     },
     "execution_count": 8,
     "metadata": {},
     "output_type": "execute_result"
    }
   ],
   "source": [
    "y_train.isnull().sum()"
   ]
  },
  {
   "cell_type": "code",
   "execution_count": 9,
   "id": "0c5dac60-6deb-4ad8-bc8a-b6f542f8e044",
   "metadata": {},
   "outputs": [
    {
     "name": "stdout",
     "output_type": "stream",
     "text": [
      "<class 'pandas.core.frame.DataFrame'>\n",
      "RangeIndex: 4960 entries, 0 to 4959\n",
      "Data columns (total 10 columns):\n",
      " #   Column        Non-Null Count  Dtype  \n",
      "---  ------        --------------  -----  \n",
      " 0   carID         4960 non-null   int64  \n",
      " 1   brand         4960 non-null   object \n",
      " 2   model         4960 non-null   object \n",
      " 3   year          4960 non-null   int64  \n",
      " 4   transmission  4960 non-null   object \n",
      " 5   mileage       4960 non-null   int64  \n",
      " 6   fuelType      4960 non-null   object \n",
      " 7   tax           4960 non-null   float64\n",
      " 8   mpg           4960 non-null   float64\n",
      " 9   engineSize    4960 non-null   float64\n",
      "dtypes: float64(3), int64(3), object(4)\n",
      "memory usage: 387.6+ KB\n"
     ]
    }
   ],
   "source": [
    "X_train.info()"
   ]
  },
  {
   "cell_type": "code",
   "execution_count": 10,
   "id": "f74c4a39-d7d9-42ef-b2ee-0179e1adeec1",
   "metadata": {},
   "outputs": [
    {
     "name": "stdout",
     "output_type": "stream",
     "text": [
      "['hyundi' 'vauxhall' 'audi' 'vw' 'skoda' 'merc' 'toyota' 'bmw' 'ford']\n",
      "[' Santa Fe' ' GTC' ' RS4' ' Scirocco' ' Scala' ' V Class' ' Prius' ' M4'\n",
      " ' Camry' ' KA' ' Vivaro' ' CLS Class' ' Caravelle' ' Arteon' ' Shuttle'\n",
      " ' I40' ' IX20' ' 6 Series' ' GL Class' ' S Class' ' S3' ' Yeti' ' Galaxy'\n",
      " ' Puma' ' Edge' ' A8' ' SLK' ' Kamiq' ' RS6' ' CLA Class' ' Land Cruiser'\n",
      " ' M Class' ' Q8' ' i3' ' Verso' ' Mustang' ' IX35' ' Amarok' ' Avensis'\n",
      " ' Grand Tourneo Connect' ' Antara' ' Tourneo Connect' ' Beetle' ' X4'\n",
      " ' CC' ' GT86' ' X-CLASS' ' I800' ' i8' ' Caddy Maxi Life' ' Combo Life'\n",
      " ' Rapid' ' SQ7' ' Grand C-MAX' ' Tourneo Custom' ' California' ' Agila'\n",
      " ' A7' ' Zafira Tourer' ' G Class' ' Tiguan Allspace' ' X6' ' M2' ' X7'\n",
      " ' 7 Series' ' Z4' ' RS5' ' Hilux' ' GLS Class' ' GLB Class' ' M5' ' RS3'\n",
      " ' Caddy Life' ' SQ5' ' Supra' ' 8 Series' ' Fusion' ' M6' ' M3' ' Jetta'\n",
      " ' S4' ' R8' ' PROACE VERSO' ' Caddy' ' Getz' ' Eos' ' CLK' ' IQ' ' Z3'\n",
      " ' Roomster']\n",
      "['Semi-Auto' 'Manual' 'Automatic' 'Other']\n",
      "['Diesel' 'Petrol' 'Hybrid' 'Other' 'Electric']\n",
      "['merc' 'vw' 'skoda' 'audi' 'vauxhall' 'toyota' 'ford' 'bmw' 'hyundi']\n",
      "[' GLS Class' ' Amarok' ' Scala' ' RS6' ' Combo Life' ' GL Class'\n",
      " ' CLS Class' ' Prius' ' Tiguan Allspace' ' S Class' ' Beetle' ' Edge'\n",
      " ' RS3' ' Fusion' ' 7 Series' ' Galaxy' ' 6 Series' ' Santa Fe' ' M5'\n",
      " ' Grand C-MAX' ' IX20' ' Hilux' ' X-CLASS' ' X4' ' Puma' ' X7' ' Avensis'\n",
      " ' Land Cruiser' ' Kamiq' ' A8' ' Shuttle' ' CC' ' Scirocco' ' M2' ' I800'\n",
      " ' Arteon' ' A7' ' I40' ' Yeti' ' IX35' ' V Class' ' Mustang' ' Z4' ' M4'\n",
      " ' Supra' ' Caravelle' ' Verso' ' GLB Class' ' S3' ' M Class' ' Agila'\n",
      " ' KA' ' Tourneo Custom' ' Grand Tourneo Connect' ' X6' ' Rapid' ' Antara'\n",
      " ' RS5' ' PROACE VERSO' ' CLK' ' i3' ' GTC' ' SLK' ' Getz'\n",
      " ' Caddy Maxi Life' ' California' ' M3' ' SQ7' ' Camry' ' CLA Class'\n",
      " ' G Class' ' Zafira Tourer' ' RS4' ' Roomster' ' Jetta' ' Q8' ' GT86'\n",
      " ' i8' ' R8' ' 8 Series' ' Tourneo Connect' ' IQ' ' S4' ' Caddy' ' Vivaro'\n",
      " ' Eos' ' SQ5' ' Z3' ' Caddy Life']\n",
      "['Automatic' 'Manual' 'Semi-Auto' 'Other']\n",
      "['Diesel' 'Petrol' 'Hybrid' 'Other' 'Electric']\n"
     ]
    }
   ],
   "source": [
    "cols=['brand','model','transmission','fuelType']\n",
    "for col in cols:\n",
    "    print(X_train[col].unique())\n",
    "for col in cols:\n",
    "    print(X_test[col].unique())"
   ]
  },
  {
   "cell_type": "code",
   "execution_count": 11,
   "id": "429c19f2-34fa-4392-a631-888103615750",
   "metadata": {},
   "outputs": [
    {
     "data": {
      "text/html": [
       "<div>\n",
       "<style scoped>\n",
       "    .dataframe tbody tr th:only-of-type {\n",
       "        vertical-align: middle;\n",
       "    }\n",
       "\n",
       "    .dataframe tbody tr th {\n",
       "        vertical-align: top;\n",
       "    }\n",
       "\n",
       "    .dataframe thead th {\n",
       "        text-align: right;\n",
       "    }\n",
       "</style>\n",
       "<table border=\"1\" class=\"dataframe\">\n",
       "  <thead>\n",
       "    <tr style=\"text-align: right;\">\n",
       "      <th></th>\n",
       "      <th>carID</th>\n",
       "      <th>brand</th>\n",
       "      <th>model</th>\n",
       "      <th>year</th>\n",
       "      <th>transmission</th>\n",
       "      <th>mileage</th>\n",
       "      <th>fuelType</th>\n",
       "      <th>tax</th>\n",
       "      <th>mpg</th>\n",
       "      <th>engineSize</th>\n",
       "    </tr>\n",
       "  </thead>\n",
       "  <tbody>\n",
       "    <tr>\n",
       "      <th>4618</th>\n",
       "      <td>16940</td>\n",
       "      <td>6</td>\n",
       "      <td>78</td>\n",
       "      <td>2017</td>\n",
       "      <td>1</td>\n",
       "      <td>36756</td>\n",
       "      <td>4</td>\n",
       "      <td>200.0</td>\n",
       "      <td>41.5</td>\n",
       "      <td>1.6</td>\n",
       "    </tr>\n",
       "    <tr>\n",
       "      <th>1242</th>\n",
       "      <td>16818</td>\n",
       "      <td>3</td>\n",
       "      <td>40</td>\n",
       "      <td>2015</td>\n",
       "      <td>1</td>\n",
       "      <td>64925</td>\n",
       "      <td>0</td>\n",
       "      <td>165.0</td>\n",
       "      <td>51.4</td>\n",
       "      <td>2.0</td>\n",
       "    </tr>\n",
       "    <tr>\n",
       "      <th>2940</th>\n",
       "      <td>18612</td>\n",
       "      <td>8</td>\n",
       "      <td>71</td>\n",
       "      <td>2015</td>\n",
       "      <td>1</td>\n",
       "      <td>54045</td>\n",
       "      <td>0</td>\n",
       "      <td>30.0</td>\n",
       "      <td>53.3</td>\n",
       "      <td>2.0</td>\n",
       "    </tr>\n",
       "    <tr>\n",
       "      <th>704</th>\n",
       "      <td>18430</td>\n",
       "      <td>3</td>\n",
       "      <td>39</td>\n",
       "      <td>2016</td>\n",
       "      <td>1</td>\n",
       "      <td>14600</td>\n",
       "      <td>4</td>\n",
       "      <td>125.0</td>\n",
       "      <td>50.4</td>\n",
       "      <td>1.4</td>\n",
       "    </tr>\n",
       "    <tr>\n",
       "      <th>101</th>\n",
       "      <td>17633</td>\n",
       "      <td>8</td>\n",
       "      <td>6</td>\n",
       "      <td>2017</td>\n",
       "      <td>0</td>\n",
       "      <td>22000</td>\n",
       "      <td>0</td>\n",
       "      <td>260.0</td>\n",
       "      <td>36.2</td>\n",
       "      <td>3.0</td>\n",
       "    </tr>\n",
       "  </tbody>\n",
       "</table>\n",
       "</div>"
      ],
      "text/plain": [
       "      carID  brand  model  year  transmission  mileage  fuelType    tax   mpg  \\\n",
       "4618  16940      6     78  2017             1    36756         4  200.0  41.5   \n",
       "1242  16818      3     40  2015             1    64925         0  165.0  51.4   \n",
       "2940  18612      8     71  2015             1    54045         0   30.0  53.3   \n",
       "704   18430      3     39  2016             1    14600         4  125.0  50.4   \n",
       "101   17633      8      6  2017             0    22000         0  260.0  36.2   \n",
       "\n",
       "      engineSize  \n",
       "4618         1.6  \n",
       "1242         2.0  \n",
       "2940         2.0  \n",
       "704          1.4  \n",
       "101          3.0  "
      ]
     },
     "execution_count": 11,
     "metadata": {},
     "output_type": "execute_result"
    }
   ],
   "source": [
    "for col in cols:\n",
    "    le=LabelEncoder()\n",
    "    le.fit(X_train[col])\n",
    "    X_train[col] = le.transform(X_train[col])\n",
    "    X_test[col]= le.transform(X_test[col])\n",
    "X_train.sample(5)"
   ]
  },
  {
   "cell_type": "code",
   "execution_count": 12,
   "id": "5a90b6f2-bea2-4b50-b1c4-00ffd96eae92",
   "metadata": {},
   "outputs": [
    {
     "data": {
      "text/html": [
       "<div>\n",
       "<style scoped>\n",
       "    .dataframe tbody tr th:only-of-type {\n",
       "        vertical-align: middle;\n",
       "    }\n",
       "\n",
       "    .dataframe tbody tr th {\n",
       "        vertical-align: top;\n",
       "    }\n",
       "\n",
       "    .dataframe thead th {\n",
       "        text-align: right;\n",
       "    }\n",
       "</style>\n",
       "<table border=\"1\" class=\"dataframe\">\n",
       "  <thead>\n",
       "    <tr style=\"text-align: right;\">\n",
       "      <th></th>\n",
       "      <th>brand</th>\n",
       "      <th>model</th>\n",
       "      <th>year</th>\n",
       "      <th>transmission</th>\n",
       "      <th>mileage</th>\n",
       "      <th>fuelType</th>\n",
       "      <th>tax</th>\n",
       "      <th>mpg</th>\n",
       "      <th>engineSize</th>\n",
       "    </tr>\n",
       "  </thead>\n",
       "  <tbody>\n",
       "    <tr>\n",
       "      <th>1907</th>\n",
       "      <td>0</td>\n",
       "      <td>56</td>\n",
       "      <td>2019</td>\n",
       "      <td>0</td>\n",
       "      <td>6954</td>\n",
       "      <td>4</td>\n",
       "      <td>145.0</td>\n",
       "      <td>21.6</td>\n",
       "      <td>5.2</td>\n",
       "    </tr>\n",
       "    <tr>\n",
       "      <th>2868</th>\n",
       "      <td>5</td>\n",
       "      <td>61</td>\n",
       "      <td>2016</td>\n",
       "      <td>1</td>\n",
       "      <td>42379</td>\n",
       "      <td>4</td>\n",
       "      <td>20.0</td>\n",
       "      <td>60.1</td>\n",
       "      <td>1.2</td>\n",
       "    </tr>\n",
       "    <tr>\n",
       "      <th>3677</th>\n",
       "      <td>8</td>\n",
       "      <td>18</td>\n",
       "      <td>2019</td>\n",
       "      <td>0</td>\n",
       "      <td>10288</td>\n",
       "      <td>0</td>\n",
       "      <td>260.0</td>\n",
       "      <td>33.2</td>\n",
       "      <td>2.0</td>\n",
       "    </tr>\n",
       "    <tr>\n",
       "      <th>949</th>\n",
       "      <td>1</td>\n",
       "      <td>48</td>\n",
       "      <td>2019</td>\n",
       "      <td>3</td>\n",
       "      <td>19</td>\n",
       "      <td>4</td>\n",
       "      <td>145.0</td>\n",
       "      <td>34.0</td>\n",
       "      <td>3.0</td>\n",
       "    </tr>\n",
       "    <tr>\n",
       "      <th>392</th>\n",
       "      <td>4</td>\n",
       "      <td>63</td>\n",
       "      <td>2015</td>\n",
       "      <td>0</td>\n",
       "      <td>77719</td>\n",
       "      <td>0</td>\n",
       "      <td>160.0</td>\n",
       "      <td>51.4</td>\n",
       "      <td>3.0</td>\n",
       "    </tr>\n",
       "  </tbody>\n",
       "</table>\n",
       "</div>"
      ],
      "text/plain": [
       "      brand  model  year  transmission  mileage  fuelType    tax   mpg  \\\n",
       "1907      0     56  2019             0     6954         4  145.0  21.6   \n",
       "2868      5     61  2016             1    42379         4   20.0  60.1   \n",
       "3677      8     18  2019             0    10288         0  260.0  33.2   \n",
       "949       1     48  2019             3       19         4  145.0  34.0   \n",
       "392       4     63  2015             0    77719         0  160.0  51.4   \n",
       "\n",
       "      engineSize  \n",
       "1907         5.2  \n",
       "2868         1.2  \n",
       "3677         2.0  \n",
       "949          3.0  \n",
       "392          3.0  "
      ]
     },
     "execution_count": 12,
     "metadata": {},
     "output_type": "execute_result"
    }
   ],
   "source": [
    "X_train = X_train.drop('carID',axis=1)\n",
    "X_test = X_test.drop('carID',axis=1)\n",
    "X_train.sample(5)"
   ]
  },
  {
   "cell_type": "code",
   "execution_count": 32,
   "id": "85aef1f1-4334-48a7-8e7c-21975ea59ef0",
   "metadata": {},
   "outputs": [
    {
     "name": "stdout",
     "output_type": "stream",
     "text": [
      "Parametreler:  {'max_depth': 12, 'min_samples_leaf': 8, 'min_samples_split': 16, 'n_estimators': 100}\n",
      "Best Score : 0.9062\n"
     ]
    }
   ],
   "source": [
    "model = RandomForestRegressor()\n",
    "\n",
    "params={\n",
    "    'n_estimators': [10,50,100],\n",
    "    'max_depth' : [6,8,10,12],\n",
    "    'min_samples_leaf' : [8,12,18],\n",
    "    'min_samples_split' : [8,16,20]\n",
    "}\n",
    "grid_cv=GridSearchCV(model,param_grid=params,cv=3,n_jobs=-1)\n",
    "grid_cv.fit(X_train,y_train['price'])\n",
    "print('Parametreler: ',grid_cv.best_params_)\n",
    "print(f'Best Score : {grid_cv.best_score_:.4f}')"
   ]
  },
  {
   "cell_type": "code",
   "execution_count": 29,
   "id": "51ca4ace-4fbd-4c95-b7ff-bf5730deb475",
   "metadata": {},
   "outputs": [
    {
     "name": "stdout",
     "output_type": "stream",
     "text": [
      "0.9477462464711961\n"
     ]
    }
   ],
   "source": [
    "model = RandomForestRegressor(n_estimators = 100,\n",
    "                             max_depth = 12,\n",
    "                             min_samples_leaf = 8,\n",
    "                             min_samples_split = 8)\n",
    "model.fit(X_train,y_train['price'])\n",
    "print(model.score(X_train, y_train['price']))"
   ]
  },
  {
   "cell_type": "code",
   "execution_count": 30,
   "id": "35de148e-8916-4952-95d5-622a87efffe1",
   "metadata": {},
   "outputs": [
    {
     "data": {
      "text/plain": [
       "0.9209"
      ]
     },
     "execution_count": 30,
     "metadata": {},
     "output_type": "execute_result"
    }
   ],
   "source": [
    "y_pred=model.predict(X_test)\n",
    "round(r2_score(y_test['price'],y_pred),4)"
   ]
  },
  {
   "cell_type": "code",
   "execution_count": 31,
   "id": "221063dd-0389-4d15-9296-b460ade7d35d",
   "metadata": {},
   "outputs": [
    {
     "name": "stdout",
     "output_type": "stream",
     "text": [
      "[114232.73440189]\n"
     ]
    }
   ],
   "source": [
    "print(model.predict([[0,56,2019,0,6954,4,145.0,21.6,5.2]]))"
   ]
  },
  {
   "cell_type": "code",
   "execution_count": null,
   "id": "60de239a-7d83-4eba-bf7b-0aada4c4ce93",
   "metadata": {},
   "outputs": [],
   "source": []
  },
  {
   "cell_type": "code",
   "execution_count": null,
   "id": "d87e5a2f-6423-44a0-a00a-f4421288d8e2",
   "metadata": {},
   "outputs": [],
   "source": []
  }
 ],
 "metadata": {
  "kernelspec": {
   "display_name": "Python 3",
   "language": "python",
   "name": "python3"
  },
  "language_info": {
   "codemirror_mode": {
    "name": "ipython",
    "version": 3
   },
   "file_extension": ".py",
   "mimetype": "text/x-python",
   "name": "python",
   "nbconvert_exporter": "python",
   "pygments_lexer": "ipython3",
   "version": "3.8.8"
  }
 },
 "nbformat": 4,
 "nbformat_minor": 5
}
