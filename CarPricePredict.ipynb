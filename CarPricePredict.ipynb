{
 "cells": [
  {
   "cell_type": "code",
   "execution_count": 5,
   "id": "9e384054",
   "metadata": {},
   "outputs": [],
   "source": [
    "import pandas as pd\n",
    "import numpy as np\n",
    "from sklearn.preprocessing import MinMaxScaler\n",
    "from sklearn.preprocessing import LabelEncoder\n",
    "from sklearn.model_selection import GridSearchCV\n",
    "from sklearn.ensemble import RandomForestRegressor\n",
    "from sklearn.metrics import r2_score"
   ]
  },
  {
   "cell_type": "code",
   "execution_count": 6,
   "id": "1399d479",
   "metadata": {},
   "outputs": [],
   "source": [
    "X_train=pd.read_csv(\"X_train.csv\")\n",
    "X_test=pd.read_csv(\"X_test.csv\")\n",
    "y_train=pd.read_csv(\"y_train.csv\")\n",
    "y_test=pd.read_csv(\"y_test.csv\")"
   ]
  },
  {
   "cell_type": "code",
   "execution_count": 7,
   "id": "6e368741-6252-4375-b0dd-d94b75aa01ab",
   "metadata": {},
   "outputs": [
    {
     "data": {
      "text/html": [
       "<div>\n",
       "<style scoped>\n",
       "    .dataframe tbody tr th:only-of-type {\n",
       "        vertical-align: middle;\n",
       "    }\n",
       "\n",
       "    .dataframe tbody tr th {\n",
       "        vertical-align: top;\n",
       "    }\n",
       "\n",
       "    .dataframe thead th {\n",
       "        text-align: right;\n",
       "    }\n",
       "</style>\n",
       "<table border=\"1\" class=\"dataframe\">\n",
       "  <thead>\n",
       "    <tr style=\"text-align: right;\">\n",
       "      <th></th>\n",
       "      <th>carID</th>\n",
       "      <th>brand</th>\n",
       "      <th>model</th>\n",
       "      <th>year</th>\n",
       "      <th>transmission</th>\n",
       "      <th>mileage</th>\n",
       "      <th>fuelType</th>\n",
       "      <th>tax</th>\n",
       "      <th>mpg</th>\n",
       "      <th>engineSize</th>\n",
       "    </tr>\n",
       "  </thead>\n",
       "  <tbody>\n",
       "    <tr>\n",
       "      <th>216</th>\n",
       "      <td>16900</td>\n",
       "      <td>ford</td>\n",
       "      <td>Edge</td>\n",
       "      <td>2017</td>\n",
       "      <td>Manual</td>\n",
       "      <td>22922</td>\n",
       "      <td>Diesel</td>\n",
       "      <td>160.0</td>\n",
       "      <td>48.7</td>\n",
       "      <td>2.0</td>\n",
       "    </tr>\n",
       "    <tr>\n",
       "      <th>4277</th>\n",
       "      <td>15983</td>\n",
       "      <td>hyundi</td>\n",
       "      <td>IX35</td>\n",
       "      <td>2015</td>\n",
       "      <td>Manual</td>\n",
       "      <td>47456</td>\n",
       "      <td>Diesel</td>\n",
       "      <td>160.0</td>\n",
       "      <td>51.4</td>\n",
       "      <td>2.0</td>\n",
       "    </tr>\n",
       "    <tr>\n",
       "      <th>3594</th>\n",
       "      <td>15572</td>\n",
       "      <td>vw</td>\n",
       "      <td>Tiguan Allspace</td>\n",
       "      <td>2020</td>\n",
       "      <td>Semi-Auto</td>\n",
       "      <td>2500</td>\n",
       "      <td>Petrol</td>\n",
       "      <td>145.0</td>\n",
       "      <td>30.7</td>\n",
       "      <td>2.0</td>\n",
       "    </tr>\n",
       "    <tr>\n",
       "      <th>2690</th>\n",
       "      <td>13332</td>\n",
       "      <td>toyota</td>\n",
       "      <td>Prius</td>\n",
       "      <td>2019</td>\n",
       "      <td>Automatic</td>\n",
       "      <td>3754</td>\n",
       "      <td>Hybrid</td>\n",
       "      <td>135.0</td>\n",
       "      <td>217.3</td>\n",
       "      <td>1.8</td>\n",
       "    </tr>\n",
       "    <tr>\n",
       "      <th>1702</th>\n",
       "      <td>14086</td>\n",
       "      <td>bmw</td>\n",
       "      <td>M4</td>\n",
       "      <td>2019</td>\n",
       "      <td>Semi-Auto</td>\n",
       "      <td>5644</td>\n",
       "      <td>Petrol</td>\n",
       "      <td>145.0</td>\n",
       "      <td>34.0</td>\n",
       "      <td>3.0</td>\n",
       "    </tr>\n",
       "  </tbody>\n",
       "</table>\n",
       "</div>"
      ],
      "text/plain": [
       "      carID   brand             model  year transmission  mileage fuelType  \\\n",
       "216   16900    ford              Edge  2017       Manual    22922   Diesel   \n",
       "4277  15983  hyundi              IX35  2015       Manual    47456   Diesel   \n",
       "3594  15572      vw   Tiguan Allspace  2020    Semi-Auto     2500   Petrol   \n",
       "2690  13332  toyota             Prius  2019    Automatic     3754   Hybrid   \n",
       "1702  14086     bmw                M4  2019    Semi-Auto     5644   Petrol   \n",
       "\n",
       "        tax    mpg  engineSize  \n",
       "216   160.0   48.7         2.0  \n",
       "4277  160.0   51.4         2.0  \n",
       "3594  145.0   30.7         2.0  \n",
       "2690  135.0  217.3         1.8  \n",
       "1702  145.0   34.0         3.0  "
      ]
     },
     "execution_count": 7,
     "metadata": {},
     "output_type": "execute_result"
    }
   ],
   "source": [
    "X_train.sample(5)"
   ]
  },
  {
   "cell_type": "code",
   "execution_count": 8,
   "id": "d9cb1bfd-6276-473f-9678-9b37610a30fb",
   "metadata": {},
   "outputs": [
    {
     "data": {
      "text/html": [
       "<div>\n",
       "<style scoped>\n",
       "    .dataframe tbody tr th:only-of-type {\n",
       "        vertical-align: middle;\n",
       "    }\n",
       "\n",
       "    .dataframe tbody tr th {\n",
       "        vertical-align: top;\n",
       "    }\n",
       "\n",
       "    .dataframe thead th {\n",
       "        text-align: right;\n",
       "    }\n",
       "</style>\n",
       "<table border=\"1\" class=\"dataframe\">\n",
       "  <thead>\n",
       "    <tr style=\"text-align: right;\">\n",
       "      <th></th>\n",
       "      <th>carID</th>\n",
       "      <th>price</th>\n",
       "    </tr>\n",
       "  </thead>\n",
       "  <tbody>\n",
       "    <tr>\n",
       "      <th>1570</th>\n",
       "      <td>14380</td>\n",
       "      <td>50388</td>\n",
       "    </tr>\n",
       "    <tr>\n",
       "      <th>3925</th>\n",
       "      <td>15542</td>\n",
       "      <td>18490</td>\n",
       "    </tr>\n",
       "    <tr>\n",
       "      <th>130</th>\n",
       "      <td>13514</td>\n",
       "      <td>16781</td>\n",
       "    </tr>\n",
       "    <tr>\n",
       "      <th>3619</th>\n",
       "      <td>19433</td>\n",
       "      <td>4689</td>\n",
       "    </tr>\n",
       "    <tr>\n",
       "      <th>1230</th>\n",
       "      <td>12929</td>\n",
       "      <td>15601</td>\n",
       "    </tr>\n",
       "  </tbody>\n",
       "</table>\n",
       "</div>"
      ],
      "text/plain": [
       "      carID  price\n",
       "1570  14380  50388\n",
       "3925  15542  18490\n",
       "130   13514  16781\n",
       "3619  19433   4689\n",
       "1230  12929  15601"
      ]
     },
     "execution_count": 8,
     "metadata": {},
     "output_type": "execute_result"
    }
   ],
   "source": [
    "y_train.sample(5)"
   ]
  },
  {
   "cell_type": "code",
   "execution_count": 9,
   "id": "718e7352-04fb-431e-ba0c-91d4bd6f6b83",
   "metadata": {
    "tags": []
   },
   "outputs": [
    {
     "data": {
      "text/plain": [
       "carID           0\n",
       "brand           0\n",
       "model           0\n",
       "year            0\n",
       "transmission    0\n",
       "mileage         0\n",
       "fuelType        0\n",
       "tax             0\n",
       "mpg             0\n",
       "engineSize      0\n",
       "dtype: int64"
      ]
     },
     "execution_count": 9,
     "metadata": {},
     "output_type": "execute_result"
    }
   ],
   "source": [
    "X_train.isnull().sum()"
   ]
  },
  {
   "cell_type": "code",
   "execution_count": 10,
   "id": "83b568a3-1508-42f9-b8bd-d08407270285",
   "metadata": {},
   "outputs": [
    {
     "data": {
      "text/plain": [
       "carID           0\n",
       "brand           0\n",
       "model           0\n",
       "year            0\n",
       "transmission    0\n",
       "mileage         0\n",
       "fuelType        0\n",
       "tax             0\n",
       "mpg             0\n",
       "engineSize      0\n",
       "dtype: int64"
      ]
     },
     "execution_count": 10,
     "metadata": {},
     "output_type": "execute_result"
    }
   ],
   "source": [
    "X_test.isnull().sum()"
   ]
  },
  {
   "cell_type": "code",
   "execution_count": 11,
   "id": "ba9d0dac-e33d-483e-a094-ee4f4d0ce18a",
   "metadata": {},
   "outputs": [
    {
     "data": {
      "text/plain": [
       "carID    0\n",
       "price    0\n",
       "dtype: int64"
      ]
     },
     "execution_count": 11,
     "metadata": {},
     "output_type": "execute_result"
    }
   ],
   "source": [
    "y_test.isnull().sum()"
   ]
  },
  {
   "cell_type": "code",
   "execution_count": 12,
   "id": "e703ba8c-1f75-450a-9141-c847b239767d",
   "metadata": {},
   "outputs": [
    {
     "data": {
      "text/plain": [
       "carID    0\n",
       "price    0\n",
       "dtype: int64"
      ]
     },
     "execution_count": 12,
     "metadata": {},
     "output_type": "execute_result"
    }
   ],
   "source": [
    "y_train.isnull().sum()"
   ]
  },
  {
   "cell_type": "code",
   "execution_count": 13,
   "id": "0c5dac60-6deb-4ad8-bc8a-b6f542f8e044",
   "metadata": {},
   "outputs": [
    {
     "name": "stdout",
     "output_type": "stream",
     "text": [
      "<class 'pandas.core.frame.DataFrame'>\n",
      "RangeIndex: 4960 entries, 0 to 4959\n",
      "Data columns (total 10 columns):\n",
      " #   Column        Non-Null Count  Dtype  \n",
      "---  ------        --------------  -----  \n",
      " 0   carID         4960 non-null   int64  \n",
      " 1   brand         4960 non-null   object \n",
      " 2   model         4960 non-null   object \n",
      " 3   year          4960 non-null   int64  \n",
      " 4   transmission  4960 non-null   object \n",
      " 5   mileage       4960 non-null   int64  \n",
      " 6   fuelType      4960 non-null   object \n",
      " 7   tax           4960 non-null   float64\n",
      " 8   mpg           4960 non-null   float64\n",
      " 9   engineSize    4960 non-null   float64\n",
      "dtypes: float64(3), int64(3), object(4)\n",
      "memory usage: 387.6+ KB\n"
     ]
    }
   ],
   "source": [
    "X_train.info()"
   ]
  },
  {
   "cell_type": "code",
   "execution_count": 14,
   "id": "f74c4a39-d7d9-42ef-b2ee-0179e1adeec1",
   "metadata": {},
   "outputs": [
    {
     "name": "stdout",
     "output_type": "stream",
     "text": [
      "['hyundi' 'vauxhall' 'audi' 'vw' 'skoda' 'merc' 'toyota' 'bmw' 'ford']\n",
      "[' Santa Fe' ' GTC' ' RS4' ' Scirocco' ' Scala' ' V Class' ' Prius' ' M4'\n",
      " ' Camry' ' KA' ' Vivaro' ' CLS Class' ' Caravelle' ' Arteon' ' Shuttle'\n",
      " ' I40' ' IX20' ' 6 Series' ' GL Class' ' S Class' ' S3' ' Yeti' ' Galaxy'\n",
      " ' Puma' ' Edge' ' A8' ' SLK' ' Kamiq' ' RS6' ' CLA Class' ' Land Cruiser'\n",
      " ' M Class' ' Q8' ' i3' ' Verso' ' Mustang' ' IX35' ' Amarok' ' Avensis'\n",
      " ' Grand Tourneo Connect' ' Antara' ' Tourneo Connect' ' Beetle' ' X4'\n",
      " ' CC' ' GT86' ' X-CLASS' ' I800' ' i8' ' Caddy Maxi Life' ' Combo Life'\n",
      " ' Rapid' ' SQ7' ' Grand C-MAX' ' Tourneo Custom' ' California' ' Agila'\n",
      " ' A7' ' Zafira Tourer' ' G Class' ' Tiguan Allspace' ' X6' ' M2' ' X7'\n",
      " ' 7 Series' ' Z4' ' RS5' ' Hilux' ' GLS Class' ' GLB Class' ' M5' ' RS3'\n",
      " ' Caddy Life' ' SQ5' ' Supra' ' 8 Series' ' Fusion' ' M6' ' M3' ' Jetta'\n",
      " ' S4' ' R8' ' PROACE VERSO' ' Caddy' ' Getz' ' Eos' ' CLK' ' IQ' ' Z3'\n",
      " ' Roomster']\n",
      "['Semi-Auto' 'Manual' 'Automatic' 'Other']\n",
      "['Diesel' 'Petrol' 'Hybrid' 'Other' 'Electric']\n",
      "['merc' 'vw' 'skoda' 'audi' 'vauxhall' 'toyota' 'ford' 'bmw' 'hyundi']\n",
      "[' GLS Class' ' Amarok' ' Scala' ' RS6' ' Combo Life' ' GL Class'\n",
      " ' CLS Class' ' Prius' ' Tiguan Allspace' ' S Class' ' Beetle' ' Edge'\n",
      " ' RS3' ' Fusion' ' 7 Series' ' Galaxy' ' 6 Series' ' Santa Fe' ' M5'\n",
      " ' Grand C-MAX' ' IX20' ' Hilux' ' X-CLASS' ' X4' ' Puma' ' X7' ' Avensis'\n",
      " ' Land Cruiser' ' Kamiq' ' A8' ' Shuttle' ' CC' ' Scirocco' ' M2' ' I800'\n",
      " ' Arteon' ' A7' ' I40' ' Yeti' ' IX35' ' V Class' ' Mustang' ' Z4' ' M4'\n",
      " ' Supra' ' Caravelle' ' Verso' ' GLB Class' ' S3' ' M Class' ' Agila'\n",
      " ' KA' ' Tourneo Custom' ' Grand Tourneo Connect' ' X6' ' Rapid' ' Antara'\n",
      " ' RS5' ' PROACE VERSO' ' CLK' ' i3' ' GTC' ' SLK' ' Getz'\n",
      " ' Caddy Maxi Life' ' California' ' M3' ' SQ7' ' Camry' ' CLA Class'\n",
      " ' G Class' ' Zafira Tourer' ' RS4' ' Roomster' ' Jetta' ' Q8' ' GT86'\n",
      " ' i8' ' R8' ' 8 Series' ' Tourneo Connect' ' IQ' ' S4' ' Caddy' ' Vivaro'\n",
      " ' Eos' ' SQ5' ' Z3' ' Caddy Life']\n",
      "['Automatic' 'Manual' 'Semi-Auto' 'Other']\n",
      "['Diesel' 'Petrol' 'Hybrid' 'Other' 'Electric']\n"
     ]
    }
   ],
   "source": [
    "cols=['brand','model','transmission','fuelType']\n",
    "for col in cols:\n",
    "    print(X_train[col].unique())\n",
    "for col in cols:\n",
    "    print(X_test[col].unique())"
   ]
  },
  {
   "cell_type": "code",
   "execution_count": 15,
   "id": "429c19f2-34fa-4392-a631-888103615750",
   "metadata": {},
   "outputs": [
    {
     "data": {
      "text/html": [
       "<div>\n",
       "<style scoped>\n",
       "    .dataframe tbody tr th:only-of-type {\n",
       "        vertical-align: middle;\n",
       "    }\n",
       "\n",
       "    .dataframe tbody tr th {\n",
       "        vertical-align: top;\n",
       "    }\n",
       "\n",
       "    .dataframe thead th {\n",
       "        text-align: right;\n",
       "    }\n",
       "</style>\n",
       "<table border=\"1\" class=\"dataframe\">\n",
       "  <thead>\n",
       "    <tr style=\"text-align: right;\">\n",
       "      <th></th>\n",
       "      <th>carID</th>\n",
       "      <th>brand</th>\n",
       "      <th>model</th>\n",
       "      <th>year</th>\n",
       "      <th>transmission</th>\n",
       "      <th>mileage</th>\n",
       "      <th>fuelType</th>\n",
       "      <th>tax</th>\n",
       "      <th>mpg</th>\n",
       "      <th>engineSize</th>\n",
       "    </tr>\n",
       "  </thead>\n",
       "  <tbody>\n",
       "    <tr>\n",
       "      <th>4861</th>\n",
       "      <td>15833</td>\n",
       "      <td>7</td>\n",
       "      <td>21</td>\n",
       "      <td>2019</td>\n",
       "      <td>1</td>\n",
       "      <td>1</td>\n",
       "      <td>4</td>\n",
       "      <td>145.0</td>\n",
       "      <td>42.2</td>\n",
       "      <td>1.2</td>\n",
       "    </tr>\n",
       "    <tr>\n",
       "      <th>871</th>\n",
       "      <td>19608</td>\n",
       "      <td>0</td>\n",
       "      <td>58</td>\n",
       "      <td>2006</td>\n",
       "      <td>1</td>\n",
       "      <td>66000</td>\n",
       "      <td>4</td>\n",
       "      <td>535.0</td>\n",
       "      <td>20.3</td>\n",
       "      <td>4.2</td>\n",
       "    </tr>\n",
       "    <tr>\n",
       "      <th>3179</th>\n",
       "      <td>17532</td>\n",
       "      <td>4</td>\n",
       "      <td>12</td>\n",
       "      <td>2017</td>\n",
       "      <td>0</td>\n",
       "      <td>18550</td>\n",
       "      <td>0</td>\n",
       "      <td>145.0</td>\n",
       "      <td>70.6</td>\n",
       "      <td>2.1</td>\n",
       "    </tr>\n",
       "    <tr>\n",
       "      <th>1960</th>\n",
       "      <td>14554</td>\n",
       "      <td>8</td>\n",
       "      <td>71</td>\n",
       "      <td>2016</td>\n",
       "      <td>1</td>\n",
       "      <td>22000</td>\n",
       "      <td>4</td>\n",
       "      <td>150.0</td>\n",
       "      <td>47.1</td>\n",
       "      <td>2.0</td>\n",
       "    </tr>\n",
       "    <tr>\n",
       "      <th>2280</th>\n",
       "      <td>12658</td>\n",
       "      <td>2</td>\n",
       "      <td>33</td>\n",
       "      <td>2015</td>\n",
       "      <td>1</td>\n",
       "      <td>64000</td>\n",
       "      <td>0</td>\n",
       "      <td>30.0</td>\n",
       "      <td>64.2</td>\n",
       "      <td>1.5</td>\n",
       "    </tr>\n",
       "  </tbody>\n",
       "</table>\n",
       "</div>"
      ],
      "text/plain": [
       "      carID  brand  model  year  transmission  mileage  fuelType    tax   mpg  \\\n",
       "4861  15833      7     21  2019             1        1         4  145.0  42.2   \n",
       "871   19608      0     58  2006             1    66000         4  535.0  20.3   \n",
       "3179  17532      4     12  2017             0    18550         0  145.0  70.6   \n",
       "1960  14554      8     71  2016             1    22000         4  150.0  47.1   \n",
       "2280  12658      2     33  2015             1    64000         0   30.0  64.2   \n",
       "\n",
       "      engineSize  \n",
       "4861         1.2  \n",
       "871          4.2  \n",
       "3179         2.1  \n",
       "1960         2.0  \n",
       "2280         1.5  "
      ]
     },
     "execution_count": 15,
     "metadata": {},
     "output_type": "execute_result"
    }
   ],
   "source": [
    "for col in cols:\n",
    "    le=LabelEncoder()\n",
    "    le.fit(X_train[col])\n",
    "    X_train[col] = le.transform(X_train[col])\n",
    "    X_test[col]= le.transform(X_test[col])\n",
    "X_train.sample(5)"
   ]
  },
  {
   "cell_type": "code",
   "execution_count": 16,
   "id": "5a90b6f2-bea2-4b50-b1c4-00ffd96eae92",
   "metadata": {},
   "outputs": [
    {
     "data": {
      "text/html": [
       "<div>\n",
       "<style scoped>\n",
       "    .dataframe tbody tr th:only-of-type {\n",
       "        vertical-align: middle;\n",
       "    }\n",
       "\n",
       "    .dataframe tbody tr th {\n",
       "        vertical-align: top;\n",
       "    }\n",
       "\n",
       "    .dataframe thead th {\n",
       "        text-align: right;\n",
       "    }\n",
       "</style>\n",
       "<table border=\"1\" class=\"dataframe\">\n",
       "  <thead>\n",
       "    <tr style=\"text-align: right;\">\n",
       "      <th></th>\n",
       "      <th>brand</th>\n",
       "      <th>model</th>\n",
       "      <th>year</th>\n",
       "      <th>transmission</th>\n",
       "      <th>mileage</th>\n",
       "      <th>fuelType</th>\n",
       "      <th>tax</th>\n",
       "      <th>mpg</th>\n",
       "      <th>engineSize</th>\n",
       "    </tr>\n",
       "  </thead>\n",
       "  <tbody>\n",
       "    <tr>\n",
       "      <th>2404</th>\n",
       "      <td>7</td>\n",
       "      <td>87</td>\n",
       "      <td>2017</td>\n",
       "      <td>0</td>\n",
       "      <td>15411</td>\n",
       "      <td>4</td>\n",
       "      <td>145.0</td>\n",
       "      <td>40.9</td>\n",
       "      <td>1.4</td>\n",
       "    </tr>\n",
       "    <tr>\n",
       "      <th>4599</th>\n",
       "      <td>2</td>\n",
       "      <td>42</td>\n",
       "      <td>2010</td>\n",
       "      <td>1</td>\n",
       "      <td>61575</td>\n",
       "      <td>4</td>\n",
       "      <td>30.0</td>\n",
       "      <td>55.4</td>\n",
       "      <td>1.2</td>\n",
       "    </tr>\n",
       "    <tr>\n",
       "      <th>4207</th>\n",
       "      <td>4</td>\n",
       "      <td>66</td>\n",
       "      <td>2012</td>\n",
       "      <td>0</td>\n",
       "      <td>47800</td>\n",
       "      <td>0</td>\n",
       "      <td>145.0</td>\n",
       "      <td>56.5</td>\n",
       "      <td>2.1</td>\n",
       "    </tr>\n",
       "    <tr>\n",
       "      <th>1477</th>\n",
       "      <td>5</td>\n",
       "      <td>84</td>\n",
       "      <td>2014</td>\n",
       "      <td>1</td>\n",
       "      <td>72500</td>\n",
       "      <td>0</td>\n",
       "      <td>150.0</td>\n",
       "      <td>55.4</td>\n",
       "      <td>2.0</td>\n",
       "    </tr>\n",
       "    <tr>\n",
       "      <th>3838</th>\n",
       "      <td>3</td>\n",
       "      <td>69</td>\n",
       "      <td>2016</td>\n",
       "      <td>1</td>\n",
       "      <td>23828</td>\n",
       "      <td>0</td>\n",
       "      <td>200.0</td>\n",
       "      <td>47.1</td>\n",
       "      <td>2.2</td>\n",
       "    </tr>\n",
       "  </tbody>\n",
       "</table>\n",
       "</div>"
      ],
      "text/plain": [
       "      brand  model  year  transmission  mileage  fuelType    tax   mpg  \\\n",
       "2404      7     87  2017             0    15411         4  145.0  40.9   \n",
       "4599      2     42  2010             1    61575         4   30.0  55.4   \n",
       "4207      4     66  2012             0    47800         0  145.0  56.5   \n",
       "1477      5     84  2014             1    72500         0  150.0  55.4   \n",
       "3838      3     69  2016             1    23828         0  200.0  47.1   \n",
       "\n",
       "      engineSize  \n",
       "2404         1.4  \n",
       "4599         1.2  \n",
       "4207         2.1  \n",
       "1477         2.0  \n",
       "3838         2.2  "
      ]
     },
     "execution_count": 16,
     "metadata": {},
     "output_type": "execute_result"
    }
   ],
   "source": [
    "X_train = X_train.drop('carID',axis=1)\n",
    "X_test = X_test.drop('carID',axis=1)\n",
    "X_train.sample(5)"
   ]
  },
  {
   "cell_type": "code",
   "execution_count": 17,
   "id": "85aef1f1-4334-48a7-8e7c-21975ea59ef0",
   "metadata": {},
   "outputs": [
    {
     "name": "stdout",
     "output_type": "stream",
     "text": [
      "Parametreler:  {'max_depth': 12, 'min_samples_leaf': 8, 'min_samples_split': 8, 'n_estimators': 50}\n",
      "Best Score : 0.9062\n"
     ]
    }
   ],
   "source": [
    "model = RandomForestRegressor()\n",
    "\n",
    "params={\n",
    "    'n_estimators': [10,50,100],\n",
    "    'max_depth' : [6,8,10,12],\n",
    "    'min_samples_leaf' : [8,12,18],\n",
    "    'min_samples_split' : [8,16,20]\n",
    "}\n",
    "grid_cv=GridSearchCV(model,param_grid=params,cv=3,n_jobs=-1)\n",
    "grid_cv.fit(X_train,y_train['price'])\n",
    "print('Parametreler: ',grid_cv.best_params_)\n",
    "print(f'Best Score : {grid_cv.best_score_:.4f}')"
   ]
  },
  {
   "cell_type": "code",
   "execution_count": 18,
   "id": "51ca4ace-4fbd-4c95-b7ff-bf5730deb475",
   "metadata": {},
   "outputs": [
    {
     "name": "stdout",
     "output_type": "stream",
     "text": [
      "0.9462137882465467\n"
     ]
    }
   ],
   "source": [
    "model = RandomForestRegressor(n_estimators = 100,\n",
    "                             max_depth = 12,\n",
    "                             min_samples_leaf = 8,\n",
    "                             min_samples_split = 8)\n",
    "model.fit(X_train,y_train['price'])\n",
    "print(model.score(X_train, y_train['price']))"
   ]
  },
  {
   "cell_type": "code",
   "execution_count": 19,
   "id": "35de148e-8916-4952-95d5-622a87efffe1",
   "metadata": {},
   "outputs": [
    {
     "data": {
      "text/plain": [
       "0.9213"
      ]
     },
     "execution_count": 19,
     "metadata": {},
     "output_type": "execute_result"
    }
   ],
   "source": [
    "y_pred=model.predict(X_test)\n",
    "round(r2_score(y_test['price'],y_pred),4)"
   ]
  },
  {
   "cell_type": "code",
   "execution_count": 20,
   "id": "221063dd-0389-4d15-9296-b460ade7d35d",
   "metadata": {},
   "outputs": [
    {
     "name": "stdout",
     "output_type": "stream",
     "text": [
      "[114018.34332019]\n"
     ]
    }
   ],
   "source": [
    "print(model.predict([[0,56,2019,0,6954,4,145.0,21.6,5.2]]))"
   ]
  },
  {
   "cell_type": "code",
   "execution_count": null,
   "id": "60de239a-7d83-4eba-bf7b-0aada4c4ce93",
   "metadata": {},
   "outputs": [],
   "source": []
  },
  {
   "cell_type": "code",
   "execution_count": null,
   "id": "d87e5a2f-6423-44a0-a00a-f4421288d8e2",
   "metadata": {},
   "outputs": [],
   "source": []
  }
 ],
 "metadata": {
  "kernelspec": {
   "display_name": "Python 3",
   "language": "python",
   "name": "python3"
  },
  "language_info": {
   "codemirror_mode": {
    "name": "ipython",
    "version": 3
   },
   "file_extension": ".py",
   "mimetype": "text/x-python",
   "name": "python",
   "nbconvert_exporter": "python",
   "pygments_lexer": "ipython3",
   "version": "3.8.8"
  }
 },
 "nbformat": 4,
 "nbformat_minor": 5
}
